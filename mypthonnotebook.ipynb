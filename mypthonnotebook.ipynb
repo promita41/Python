{
 "cells": [
  {
   "cell_type": "code",
   "execution_count": 1,
   "id": "6cfe030e",
   "metadata": {},
   "outputs": [],
   "source": [
    "a=10"
   ]
  },
  {
   "cell_type": "code",
   "execution_count": 2,
   "id": "3f583ed5",
   "metadata": {},
   "outputs": [
    {
     "data": {
      "text/plain": [
       "10"
      ]
     },
     "execution_count": 2,
     "metadata": {},
     "output_type": "execute_result"
    }
   ],
   "source": [
    "a"
   ]
  },
  {
   "cell_type": "code",
   "execution_count": 3,
   "id": "e82c1665",
   "metadata": {},
   "outputs": [
    {
     "data": {
      "text/plain": [
       "int"
      ]
     },
     "execution_count": 3,
     "metadata": {},
     "output_type": "execute_result"
    }
   ],
   "source": [
    "type(a)"
   ]
  },
  {
   "cell_type": "code",
   "execution_count": 7,
   "id": "d546cc98",
   "metadata": {},
   "outputs": [
    {
     "name": "stdout",
     "output_type": "stream",
     "text": [
      "I am Promita\n"
     ]
    }
   ],
   "source": [
    "print(\"I am {}\".format(\"Promita\"))"
   ]
  },
  {
   "cell_type": "code",
   "execution_count": null,
   "id": "f370e560",
   "metadata": {},
   "outputs": [],
   "source": []
  },
  {
   "cell_type": "code",
   "execution_count": 8,
   "id": "320fa585",
   "metadata": {},
   "outputs": [
    {
     "name": "stdout",
     "output_type": "stream",
     "text": [
      "I am Promita Biswas\n"
     ]
    }
   ],
   "source": [
    "print(\"I am {p} {b}\".format(p=\"Promita\",b=\"Biswas\"))"
   ]
  },
  {
   "cell_type": "code",
   "execution_count": 9,
   "id": "fe986644",
   "metadata": {},
   "outputs": [
    {
     "name": "stdout",
     "output_type": "stream",
     "text": [
      "I am Promita Promita\n"
     ]
    }
   ],
   "source": [
    "print(\"I am {p} {p}\".format(p=\"Promita\",b=\"Biswas\"))"
   ]
  },
  {
   "cell_type": "code",
   "execution_count": 9,
   "id": "664c9bba",
   "metadata": {},
   "outputs": [
    {
     "name": "stdout",
     "output_type": "stream",
     "text": [
      "I am Promita Promita\n"
     ]
    }
   ],
   "source": [
    "print(\"I am {p} {p}\".format(p=\"Promita\",b=\"Biswas\"))"
   ]
  },
  {
   "cell_type": "code",
   "execution_count": 10,
   "id": "e520b512",
   "metadata": {},
   "outputs": [],
   "source": [
    "p='Promita'\n",
    "b='biswas'\n"
   ]
  },
  {
   "cell_type": "code",
   "execution_count": 12,
   "id": "da31cc72",
   "metadata": {},
   "outputs": [
    {
     "name": "stdout",
     "output_type": "stream",
     "text": [
      "I am Promita biswas\n"
     ]
    }
   ],
   "source": [
    "print(f\"I am {p} {b}\")"
   ]
  },
  {
   "cell_type": "code",
   "execution_count": 13,
   "id": "cd24b763",
   "metadata": {},
   "outputs": [
    {
     "name": "stdout",
     "output_type": "stream",
     "text": [
      "I am Promita biswas\n"
     ]
    }
   ],
   "source": [
    "print(f\"I am {p} {b}\")"
   ]
  },
  {
   "cell_type": "code",
   "execution_count": 18,
   "id": "9551e4a3",
   "metadata": {},
   "outputs": [
    {
     "name": "stdout",
     "output_type": "stream",
     "text": [
      "value: 0.567\n"
     ]
    }
   ],
   "source": [
    "print(\"value: {r:1.3}\".format(r=0.566778))"
   ]
  },
  {
   "cell_type": "code",
   "execution_count": 19,
   "id": "4c459416",
   "metadata": {},
   "outputs": [],
   "source": [
    "my_list=[1,2,3]"
   ]
  },
  {
   "cell_type": "code",
   "execution_count": 20,
   "id": "d4404ca8",
   "metadata": {},
   "outputs": [
    {
     "data": {
      "text/plain": [
       "3"
      ]
     },
     "execution_count": 20,
     "metadata": {},
     "output_type": "execute_result"
    }
   ],
   "source": [
    "len(my_list)"
   ]
  },
  {
   "cell_type": "code",
   "execution_count": 21,
   "id": "8aed11d5",
   "metadata": {},
   "outputs": [],
   "source": [
    "my_list=['one','two','three']"
   ]
  },
  {
   "cell_type": "code",
   "execution_count": 24,
   "id": "644380ca",
   "metadata": {},
   "outputs": [
    {
     "data": {
      "text/plain": [
       "['two', 'three']"
      ]
     },
     "execution_count": 24,
     "metadata": {},
     "output_type": "execute_result"
    }
   ],
   "source": [
    "my_list[1:]"
   ]
  },
  {
   "cell_type": "code",
   "execution_count": 25,
   "id": "178ff3d9",
   "metadata": {},
   "outputs": [],
   "source": [
    "another_list=['four',5]"
   ]
  },
  {
   "cell_type": "code",
   "execution_count": 26,
   "id": "4936ad15",
   "metadata": {},
   "outputs": [],
   "source": [
    "new_list =my_list+another_list"
   ]
  },
  {
   "cell_type": "code",
   "execution_count": 27,
   "id": "a73026be",
   "metadata": {},
   "outputs": [
    {
     "data": {
      "text/plain": [
       "['one', 'two', 'three', 'four', 5]"
      ]
     },
     "execution_count": 27,
     "metadata": {},
     "output_type": "execute_result"
    }
   ],
   "source": [
    "new_list"
   ]
  },
  {
   "cell_type": "code",
   "execution_count": 28,
   "id": "20b713fa",
   "metadata": {},
   "outputs": [],
   "source": [
    "new_list[4]='five'"
   ]
  },
  {
   "cell_type": "code",
   "execution_count": 29,
   "id": "bf28cfc5",
   "metadata": {},
   "outputs": [
    {
     "data": {
      "text/plain": [
       "['one', 'two', 'three', 'four', 'five']"
      ]
     },
     "execution_count": 29,
     "metadata": {},
     "output_type": "execute_result"
    }
   ],
   "source": [
    "new_list"
   ]
  },
  {
   "cell_type": "code",
   "execution_count": 30,
   "id": "2a60b2b5",
   "metadata": {},
   "outputs": [],
   "source": [
    "new_list.append('six')"
   ]
  },
  {
   "cell_type": "code",
   "execution_count": 31,
   "id": "9bb62b48",
   "metadata": {},
   "outputs": [
    {
     "data": {
      "text/plain": [
       "['one', 'two', 'three', 'four', 'five', 'six']"
      ]
     },
     "execution_count": 31,
     "metadata": {},
     "output_type": "execute_result"
    }
   ],
   "source": [
    "new_list"
   ]
  },
  {
   "cell_type": "code",
   "execution_count": 34,
   "id": "028172ce",
   "metadata": {},
   "outputs": [
    {
     "data": {
      "text/plain": [
       "'three'"
      ]
     },
     "execution_count": 34,
     "metadata": {},
     "output_type": "execute_result"
    }
   ],
   "source": [
    "new_list.pop(2)"
   ]
  },
  {
   "cell_type": "code",
   "execution_count": 35,
   "id": "b2482920",
   "metadata": {},
   "outputs": [
    {
     "data": {
      "text/plain": [
       "['one', 'two', 'four', 'five']"
      ]
     },
     "execution_count": 35,
     "metadata": {},
     "output_type": "execute_result"
    }
   ],
   "source": [
    "new_list"
   ]
  },
  {
   "cell_type": "code",
   "execution_count": 36,
   "id": "c4df5ef2",
   "metadata": {},
   "outputs": [],
   "source": [
    "new_list=[1,6,3,9,2]"
   ]
  },
  {
   "cell_type": "code",
   "execution_count": 37,
   "id": "7d7cd494",
   "metadata": {},
   "outputs": [],
   "source": [
    "new_list.sort()"
   ]
  },
  {
   "cell_type": "code",
   "execution_count": 38,
   "id": "99d921f0",
   "metadata": {},
   "outputs": [
    {
     "data": {
      "text/plain": [
       "[1, 2, 3, 6, 9]"
      ]
     },
     "execution_count": 38,
     "metadata": {},
     "output_type": "execute_result"
    }
   ],
   "source": [
    "new_list"
   ]
  },
  {
   "cell_type": "code",
   "execution_count": 39,
   "id": "79e3a5a3",
   "metadata": {},
   "outputs": [],
   "source": [
    "new_list.reverse()"
   ]
  },
  {
   "cell_type": "code",
   "execution_count": 40,
   "id": "0868e216",
   "metadata": {},
   "outputs": [
    {
     "data": {
      "text/plain": [
       "[9, 6, 3, 2, 1]"
      ]
     },
     "execution_count": 40,
     "metadata": {},
     "output_type": "execute_result"
    }
   ],
   "source": [
    "new_list"
   ]
  },
  {
   "cell_type": "code",
   "execution_count": 41,
   "id": "9e6ad258",
   "metadata": {},
   "outputs": [],
   "source": [
    "new_list=[1,2,[3,4]]"
   ]
  },
  {
   "cell_type": "code",
   "execution_count": 42,
   "id": "0ae1165b",
   "metadata": {},
   "outputs": [
    {
     "data": {
      "text/plain": [
       "4"
      ]
     },
     "execution_count": 42,
     "metadata": {},
     "output_type": "execute_result"
    }
   ],
   "source": [
    "new_list[2][1]"
   ]
  },
  {
   "cell_type": "code",
   "execution_count": 46,
   "id": "2551ac06",
   "metadata": {},
   "outputs": [],
   "source": [
    "d={'key1':1.23,'Key2':2.23,'Key3':[1,2,3]}"
   ]
  },
  {
   "cell_type": "code",
   "execution_count": 47,
   "id": "6fdf244b",
   "metadata": {},
   "outputs": [
    {
     "data": {
      "text/plain": [
       "{'key1': 1.23, 'Key2': 2.23, 'Key3': [1, 2, 3]}"
      ]
     },
     "execution_count": 47,
     "metadata": {},
     "output_type": "execute_result"
    }
   ],
   "source": [
    "d"
   ]
  },
  {
   "cell_type": "code",
   "execution_count": 49,
   "id": "f438246d",
   "metadata": {},
   "outputs": [
    {
     "data": {
      "text/plain": [
       "1.23"
      ]
     },
     "execution_count": 49,
     "metadata": {},
     "output_type": "execute_result"
    }
   ],
   "source": [
    "d['key1']"
   ]
  },
  {
   "cell_type": "code",
   "execution_count": 51,
   "id": "bd38128b",
   "metadata": {},
   "outputs": [
    {
     "data": {
      "text/plain": [
       "[1, 2, 3]"
      ]
     },
     "execution_count": 51,
     "metadata": {},
     "output_type": "execute_result"
    }
   ],
   "source": [
    "d['Key3']"
   ]
  },
  {
   "cell_type": "code",
   "execution_count": 53,
   "id": "29dad2b8",
   "metadata": {},
   "outputs": [
    {
     "data": {
      "text/plain": [
       "3"
      ]
     },
     "execution_count": 53,
     "metadata": {},
     "output_type": "execute_result"
    }
   ],
   "source": [
    "d['Key3'][2]"
   ]
  },
  {
   "cell_type": "code",
   "execution_count": 56,
   "id": "10a1bfa2",
   "metadata": {},
   "outputs": [],
   "source": [
    "d['key4']='Apple'"
   ]
  },
  {
   "cell_type": "code",
   "execution_count": 57,
   "id": "545cbcb0",
   "metadata": {},
   "outputs": [
    {
     "data": {
      "text/plain": [
       "{'key1': 1.23, 'Key2': 2.23, 'Key3': [1, 2, 3], 'key4': 'Apple'}"
      ]
     },
     "execution_count": 57,
     "metadata": {},
     "output_type": "execute_result"
    }
   ],
   "source": [
    "d\n"
   ]
  },
  {
   "cell_type": "code",
   "execution_count": 58,
   "id": "d1e7ece3",
   "metadata": {},
   "outputs": [
    {
     "data": {
      "text/plain": [
       "dict_keys(['key1', 'Key2', 'Key3', 'key4'])"
      ]
     },
     "execution_count": 58,
     "metadata": {},
     "output_type": "execute_result"
    }
   ],
   "source": [
    "d.keys()"
   ]
  },
  {
   "cell_type": "code",
   "execution_count": 59,
   "id": "02f9a2c5",
   "metadata": {},
   "outputs": [
    {
     "data": {
      "text/plain": [
       "dict_values([1.23, 2.23, [1, 2, 3], 'Apple'])"
      ]
     },
     "execution_count": 59,
     "metadata": {},
     "output_type": "execute_result"
    }
   ],
   "source": [
    "d.values()"
   ]
  },
  {
   "cell_type": "code",
   "execution_count": 60,
   "id": "cb9a9455",
   "metadata": {},
   "outputs": [
    {
     "data": {
      "text/plain": [
       "dict_items([('key1', 1.23), ('Key2', 2.23), ('Key3', [1, 2, 3]), ('key4', 'Apple')])"
      ]
     },
     "execution_count": 60,
     "metadata": {},
     "output_type": "execute_result"
    }
   ],
   "source": [
    "d.items()"
   ]
  },
  {
   "cell_type": "code",
   "execution_count": 61,
   "id": "47e2d13e",
   "metadata": {},
   "outputs": [],
   "source": [
    "t=(1,2,3)"
   ]
  },
  {
   "cell_type": "code",
   "execution_count": 62,
   "id": "2042a77d",
   "metadata": {},
   "outputs": [
    {
     "data": {
      "text/plain": [
       "(1, 2, 3)"
      ]
     },
     "execution_count": 62,
     "metadata": {},
     "output_type": "execute_result"
    }
   ],
   "source": [
    "t"
   ]
  },
  {
   "cell_type": "code",
   "execution_count": 64,
   "id": "13dda667",
   "metadata": {},
   "outputs": [
    {
     "data": {
      "text/plain": [
       "2"
      ]
     },
     "execution_count": 64,
     "metadata": {},
     "output_type": "execute_result"
    }
   ],
   "source": [
    "t[1]"
   ]
  },
  {
   "cell_type": "code",
   "execution_count": 65,
   "id": "ef6ef095",
   "metadata": {},
   "outputs": [],
   "source": [
    "t=('a','a','c')"
   ]
  },
  {
   "cell_type": "code",
   "execution_count": 66,
   "id": "9bca9b81",
   "metadata": {},
   "outputs": [
    {
     "data": {
      "text/plain": [
       "2"
      ]
     },
     "execution_count": 66,
     "metadata": {},
     "output_type": "execute_result"
    }
   ],
   "source": [
    "t.count('a')"
   ]
  },
  {
   "cell_type": "code",
   "execution_count": 67,
   "id": "3628eda2",
   "metadata": {},
   "outputs": [
    {
     "data": {
      "text/plain": [
       "0"
      ]
     },
     "execution_count": 67,
     "metadata": {},
     "output_type": "execute_result"
    }
   ],
   "source": [
    "t.index('a')"
   ]
  },
  {
   "cell_type": "code",
   "execution_count": 68,
   "id": "39f8f265",
   "metadata": {},
   "outputs": [
    {
     "ename": "TypeError",
     "evalue": "'tuple' object does not support item assignment",
     "output_type": "error",
     "traceback": [
      "\u001b[1;31m---------------------------------------------------------------------------\u001b[0m",
      "\u001b[1;31mTypeError\u001b[0m                                 Traceback (most recent call last)",
      "Cell \u001b[1;32mIn[68], line 1\u001b[0m\n\u001b[1;32m----> 1\u001b[0m t[\u001b[38;5;241m0\u001b[39m]\u001b[38;5;241m=\u001b[39m\u001b[38;5;124m'\u001b[39m\u001b[38;5;124mb\u001b[39m\u001b[38;5;124m'\u001b[39m\n",
      "\u001b[1;31mTypeError\u001b[0m: 'tuple' object does not support item assignment"
     ]
    }
   ],
   "source": [
    "t[0]='b'"
   ]
  },
  {
   "cell_type": "code",
   "execution_count": 69,
   "id": "ef59a792",
   "metadata": {},
   "outputs": [
    {
     "data": {
      "text/plain": [
       "{'P', 'a', 'e', 'l', 'r'}"
      ]
     },
     "execution_count": 69,
     "metadata": {},
     "output_type": "execute_result"
    }
   ],
   "source": [
    "set('Parallel')"
   ]
  },
  {
   "cell_type": "code",
   "execution_count": 70,
   "id": "09d37d43",
   "metadata": {},
   "outputs": [
    {
     "data": {
      "text/plain": [
       "'C:\\\\Users\\\\p.biswas\\\\Desktop\\\\Python'"
      ]
     },
     "execution_count": 70,
     "metadata": {},
     "output_type": "execute_result"
    }
   ],
   "source": [
    "pwd"
   ]
  },
  {
   "cell_type": "code",
   "execution_count": 76,
   "id": "897291a0",
   "metadata": {},
   "outputs": [
    {
     "name": "stdout",
     "output_type": "stream",
     "text": [
      "Writing test.txt\n"
     ]
    }
   ],
   "source": [
    "%%writefile test.txt\n",
    "hi 1st line\n",
    "hi 2nd line\n",
    "hi 3rd line"
   ]
  },
  {
   "cell_type": "code",
   "execution_count": 78,
   "id": "20406730",
   "metadata": {},
   "outputs": [],
   "source": [
    "myfile=open('test.txt')"
   ]
  },
  {
   "cell_type": "code",
   "execution_count": 87,
   "id": "8cfe5850",
   "metadata": {},
   "outputs": [
    {
     "data": {
      "text/plain": [
       "'hi 1st line\\nhi 2nd line\\nhi 3rd line\\n'"
      ]
     },
     "execution_count": 87,
     "metadata": {},
     "output_type": "execute_result"
    }
   ],
   "source": [
    "myfile.read()"
   ]
  },
  {
   "cell_type": "code",
   "execution_count": 94,
   "id": "7c10ee00",
   "metadata": {},
   "outputs": [
    {
     "data": {
      "text/plain": [
       "0"
      ]
     },
     "execution_count": 94,
     "metadata": {},
     "output_type": "execute_result"
    }
   ],
   "source": [
    "myfile.seek(0)"
   ]
  },
  {
   "cell_type": "code",
   "execution_count": 90,
   "id": "5bd1168b",
   "metadata": {},
   "outputs": [
    {
     "data": {
      "text/plain": [
       "['hi 1st line\\n', 'hi 2nd line\\n', 'hi 3rd line\\n']"
      ]
     },
     "execution_count": 90,
     "metadata": {},
     "output_type": "execute_result"
    }
   ],
   "source": [
    "myfile.readlines()"
   ]
  },
  {
   "cell_type": "code",
   "execution_count": 91,
   "id": "d756d40b",
   "metadata": {},
   "outputs": [],
   "source": [
    "myfile=open('C:\\\\Users\\\\p.biswas\\\\Desktop\\\\Python\\\\Complete-Python-3-Bootcamp-master\\\\00-Python Object and Data Structure Basics\\\\test.txt')"
   ]
  },
  {
   "cell_type": "code",
   "execution_count": 95,
   "id": "bf34b497",
   "metadata": {},
   "outputs": [
    {
     "data": {
      "text/plain": [
       "['First Line\\n', 'Second Line']"
      ]
     },
     "execution_count": 95,
     "metadata": {},
     "output_type": "execute_result"
    }
   ],
   "source": [
    "myfile.readlines()"
   ]
  },
  {
   "cell_type": "code",
   "execution_count": 97,
   "id": "718e3b65",
   "metadata": {},
   "outputs": [
    {
     "name": "stdout",
     "output_type": "stream",
     "text": [
      "hi 1st line\n",
      "hi 2nd line\n",
      "hi 3rd line\n",
      "\n"
     ]
    }
   ],
   "source": [
    "with open('test.txt',mode='r') as f:\n",
    "    print(f.read())"
   ]
  },
  {
   "cell_type": "code",
   "execution_count": 98,
   "id": "64d7b9aa",
   "metadata": {},
   "outputs": [],
   "source": [
    "with open('test.txt',mode='a') as f:\n",
    "    f.write('\\nhi 4th line')"
   ]
  },
  {
   "cell_type": "code",
   "execution_count": 105,
   "id": "ca549a8f",
   "metadata": {},
   "outputs": [
    {
     "name": "stdout",
     "output_type": "stream",
     "text": [
      "hi 1st line\n",
      "hi 2nd line\n",
      "hi 3rd line\n",
      "\n",
      "hi 4th line\n"
     ]
    }
   ],
   "source": [
    "with open('test.txt',mode='r') as f:\n",
    "    print(f.read())\n"
   ]
  },
  {
   "cell_type": "code",
   "execution_count": null,
   "id": "d6e450db",
   "metadata": {},
   "outputs": [],
   "source": [
    "close()"
   ]
  },
  {
   "cell_type": "code",
   "execution_count": 106,
   "id": "3f5dca8c",
   "metadata": {},
   "outputs": [],
   "source": [
    "with open('newfile.txt',mode='w') as f:\n",
    "    f.write('new new')"
   ]
  },
  {
   "cell_type": "code",
   "execution_count": 108,
   "id": "5b6d4f36",
   "metadata": {},
   "outputs": [
    {
     "name": "stdout",
     "output_type": "stream",
     "text": [
      "new new\n"
     ]
    }
   ],
   "source": [
    "with open('newfile.txt',mode='r') as f:\n",
    "    print(f.read())"
   ]
  },
  {
   "cell_type": "code",
   "execution_count": 119,
   "id": "4bc93517",
   "metadata": {},
   "outputs": [
    {
     "name": "stdout",
     "output_type": "stream",
     "text": [
      "I am full\n"
     ]
    }
   ],
   "source": [
    "hungry=False\n",
    "if hungry:\n",
    "    print('feed me')\n",
    "else:print('I am full')\n",
    "    \n"
   ]
  },
  {
   "cell_type": "code",
   "execution_count": 3,
   "id": "53087684",
   "metadata": {},
   "outputs": [
    {
     "name": "stdout",
     "output_type": "stream",
     "text": [
      "I dont know\n"
     ]
    }
   ],
   "source": [
    "loc='Bak'\n",
    "\n",
    "if loc=='station':\n",
    "    print('i am in station')\n",
    "elif loc=='Bank':\n",
    "    print('I am in Bank')\n",
    "else: print('I dont know')\n",
    "    \n"
   ]
  },
  {
   "cell_type": "code",
   "execution_count": 12,
   "id": "8046347d",
   "metadata": {},
   "outputs": [
    {
     "name": "stdout",
     "output_type": "stream",
     "text": [
      "odd num:1\n",
      "2\n",
      "odd num:3\n",
      "4\n",
      "odd num:5\n",
      "6\n"
     ]
    }
   ],
   "source": [
    " mylist =[1,2,3,4,5,6]\n",
    "for num in mylist:\n",
    "    if num%2==0:\n",
    "        print(num)\n",
    "    else:\n",
    "        print(f\"odd num:{num}\")\n",
    "     "
   ]
  },
  {
   "cell_type": "code",
   "execution_count": 15,
   "id": "25ef2c90",
   "metadata": {},
   "outputs": [
    {
     "name": "stdout",
     "output_type": "stream",
     "text": [
      "p\n",
      "r\n",
      "o\n",
      "m\n",
      "i\n",
      "t\n",
      "a\n"
     ]
    }
   ],
   "source": [
    "myname = 'promita'\n",
    "for letter in myname:\n",
    "    print(letter)"
   ]
  },
  {
   "cell_type": "code",
   "execution_count": 17,
   "id": "edb37309",
   "metadata": {},
   "outputs": [
    {
     "name": "stdout",
     "output_type": "stream",
     "text": [
      "21\n"
     ]
    }
   ],
   "source": [
    "sum_x=0\n",
    "for num in mylist:\n",
    "    sum_x = num+sum_x\n",
    "print(sum_x)"
   ]
  },
  {
   "cell_type": "code",
   "execution_count": 19,
   "id": "60585fe0",
   "metadata": {},
   "outputs": [
    {
     "name": "stdout",
     "output_type": "stream",
     "text": [
      "(1, 2)\n",
      "(3, 4)\n",
      "(5, 6)\n"
     ]
    }
   ],
   "source": [
    "mytuple=[(1,2),(3,4),(5,6)]\n",
    "for item in mytuple:\n",
    "    print(item)"
   ]
  },
  {
   "cell_type": "code",
   "execution_count": 22,
   "id": "56875450",
   "metadata": {},
   "outputs": [
    {
     "name": "stdout",
     "output_type": "stream",
     "text": [
      "1\n",
      "2\n",
      "3\n",
      "4\n",
      "5\n",
      "6\n"
     ]
    }
   ],
   "source": [
    "for (a,b) in mytuple:\n",
    "    print (a)\n",
    "    print (b)"
   ]
  },
  {
   "cell_type": "code",
   "execution_count": 33,
   "id": "931480de",
   "metadata": {},
   "outputs": [
    {
     "name": "stdout",
     "output_type": "stream",
     "text": [
      "i=0\n",
      "i=1\n",
      "i=2\n",
      "i=3\n",
      "i=4\n",
      "i=5\n",
      "i=6\n",
      "i=7\n",
      "i=8\n",
      "i=9\n"
     ]
    }
   ],
   "source": [
    "i=0\n",
    "while i<10:\n",
    "     print (f'i={i}')\n",
    "     i=i+1"
   ]
  },
  {
   "cell_type": "code",
   "execution_count": 34,
   "id": "069a058d",
   "metadata": {},
   "outputs": [
    {
     "name": "stdout",
     "output_type": "stream",
     "text": [
      "p\n",
      "r\n",
      "o\n",
      "m\n",
      "t\n",
      "a\n"
     ]
    }
   ],
   "source": [
    "name = 'promita'\n",
    "for letter in name:\n",
    "    if letter == 'i':\n",
    "        continue # goes back to the top without executing below code\n",
    "    print (letter)"
   ]
  },
  {
   "cell_type": "code",
   "execution_count": 37,
   "id": "dff6eb10",
   "metadata": {},
   "outputs": [
    {
     "name": "stdout",
     "output_type": "stream",
     "text": [
      "adgjl\n"
     ]
    }
   ],
   "source": [
    "name = 'promita'\n",
    "for letter in name:\n",
    "    pass # while ingore current function and move to next. can be used as place holder\n",
    "\n",
    "print('adgjl')\n"
   ]
  },
  {
   "cell_type": "code",
   "execution_count": 38,
   "id": "d1d2d698",
   "metadata": {},
   "outputs": [
    {
     "name": "stdout",
     "output_type": "stream",
     "text": [
      "p\n",
      "r\n",
      "o\n",
      "m\n"
     ]
    }
   ],
   "source": [
    "name = 'promita'\n",
    "for letter in name:\n",
    "    if letter == 'i':\n",
    "        break # breaks out off the loop\n",
    "    print (letter)"
   ]
  },
  {
   "cell_type": "code",
   "execution_count": 3,
   "id": "d9e22e81",
   "metadata": {},
   "outputs": [],
   "source": [
    "mystring ='Hello'\n",
    "mylist = []\n",
    "for letter in mystring:\n",
    "    mylist.append(letter)"
   ]
  },
  {
   "cell_type": "code",
   "execution_count": 4,
   "id": "fcccbed3",
   "metadata": {},
   "outputs": [
    {
     "data": {
      "text/plain": [
       "['H', 'e', 'l', 'l', 'o']"
      ]
     },
     "execution_count": 4,
     "metadata": {},
     "output_type": "execute_result"
    }
   ],
   "source": [
    "mylist"
   ]
  },
  {
   "cell_type": "code",
   "execution_count": 5,
   "id": "e9581949",
   "metadata": {},
   "outputs": [],
   "source": [
    "mylist = [letter for letter in mystring]"
   ]
  },
  {
   "cell_type": "code",
   "execution_count": 6,
   "id": "8595f9a4",
   "metadata": {},
   "outputs": [
    {
     "data": {
      "text/plain": [
       "['H', 'e', 'l', 'l', 'o']"
      ]
     },
     "execution_count": 6,
     "metadata": {},
     "output_type": "execute_result"
    }
   ],
   "source": [
    "mylist"
   ]
  },
  {
   "cell_type": "code",
   "execution_count": 7,
   "id": "9a2cadf1",
   "metadata": {},
   "outputs": [],
   "source": [
    "mylist = [x for x in range (1,10) if x%2==0]"
   ]
  },
  {
   "cell_type": "code",
   "execution_count": 8,
   "id": "dbc14493",
   "metadata": {},
   "outputs": [
    {
     "data": {
      "text/plain": [
       "[2, 4, 6, 8]"
      ]
     },
     "execution_count": 8,
     "metadata": {},
     "output_type": "execute_result"
    }
   ],
   "source": [
    "mylist"
   ]
  },
  {
   "cell_type": "code",
   "execution_count": 9,
   "id": "9039512a",
   "metadata": {},
   "outputs": [],
   "source": [
    "mylist = [x**2 for x in range (1,10) if x%2==0]"
   ]
  },
  {
   "cell_type": "code",
   "execution_count": 10,
   "id": "a9d5523f",
   "metadata": {},
   "outputs": [
    {
     "data": {
      "text/plain": [
       "[4, 16, 36, 64]"
      ]
     },
     "execution_count": 10,
     "metadata": {},
     "output_type": "execute_result"
    }
   ],
   "source": [
    "mylist\n"
   ]
  },
  {
   "cell_type": "code",
   "execution_count": 11,
   "id": "6a9b072a",
   "metadata": {},
   "outputs": [],
   "source": [
    "celsius=[20,25,23.4]\n",
    "ferenheite= [(9/5*x)+32 for x in celsius]\n"
   ]
  },
  {
   "cell_type": "code",
   "execution_count": 12,
   "id": "f833bb2d",
   "metadata": {},
   "outputs": [
    {
     "data": {
      "text/plain": [
       "[68.0, 77.0, 74.12]"
      ]
     },
     "execution_count": 12,
     "metadata": {},
     "output_type": "execute_result"
    }
   ],
   "source": [
    "ferenheite"
   ]
  },
  {
   "cell_type": "code",
   "execution_count": 14,
   "id": "29e37f68",
   "metadata": {},
   "outputs": [],
   "source": [
    "mylist =[]\n",
    "for i in [1,2,3,4]:\n",
    "  for x in [2,3,4,5]:\n",
    "    mylist.append(i*x)"
   ]
  },
  {
   "cell_type": "code",
   "execution_count": 15,
   "id": "f2656d89",
   "metadata": {},
   "outputs": [
    {
     "data": {
      "text/plain": [
       "[2, 3, 4, 5, 4, 6, 8, 10, 6, 9, 12, 15, 8, 12, 16, 20]"
      ]
     },
     "execution_count": 15,
     "metadata": {},
     "output_type": "execute_result"
    }
   ],
   "source": [
    "mylist"
   ]
  },
  {
   "cell_type": "code",
   "execution_count": null,
   "id": "65845464",
   "metadata": {},
   "outputs": [],
   "source": []
  }
 ],
 "metadata": {
  "kernelspec": {
   "display_name": "Python 3 (ipykernel)",
   "language": "python",
   "name": "python3"
  },
  "language_info": {
   "codemirror_mode": {
    "name": "ipython",
    "version": 3
   },
   "file_extension": ".py",
   "mimetype": "text/x-python",
   "name": "python",
   "nbconvert_exporter": "python",
   "pygments_lexer": "ipython3",
   "version": "3.11.5"
  }
 },
 "nbformat": 4,
 "nbformat_minor": 5
}
